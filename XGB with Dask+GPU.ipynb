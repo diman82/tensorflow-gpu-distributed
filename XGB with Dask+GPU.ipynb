{
 "cells": [
  {
   "cell_type": "code",
   "execution_count": 1,
   "metadata": {
    "ExecuteTime": {
     "end_time": "2020-01-18T10:03:42.260725Z",
     "start_time": "2020-01-18T10:03:41.113244Z"
    }
   },
   "outputs": [
    {
     "name": "stderr",
     "output_type": "stream",
     "text": [
      "UserWarning: The pandas version installed 1.2.0 does not match the supported pandas version in Modin 1.1.4. This may cause undesired side effects!\n"
     ]
    }
   ],
   "source": [
    "import numpy as np\n",
    "import os.path\n",
    "# import pandas as pd\n",
    "import modin.pandas as pd\n",
    "import time\n",
    "import xgboost as xgb\n",
    "import sys\n",
    "from dask.distributed import Client, wait\n",
    "from dask_cuda import LocalCUDACluster\n",
    "# import dask_cudf\n",
    "import dask\n",
    "import dask.dataframe as dd\n",
    "import dask_xgboost as dxgb\n",
    "import matplotlib.pyplot as plt\n",
    "%matplotlib inline\n",
    "\n",
    "os.environ[\"MODIN_ENGINE\"] = \"dask\"  # Modin will use Dask"
   ]
  },
  {
   "cell_type": "markdown",
   "metadata": {
    "ExecuteTime": {
     "end_time": "2020-01-15T12:09:07.345081Z",
     "start_time": "2020-01-15T12:09:07.337665Z"
    }
   },
   "source": [
    "# Download Data"
   ]
  },
  {
   "cell_type": "code",
   "execution_count": 2,
   "metadata": {
    "ExecuteTime": {
     "end_time": "2020-01-18T10:03:44.264846Z",
     "start_time": "2020-01-18T10:03:44.251698Z"
    }
   },
   "outputs": [],
   "source": [
    "if sys.version_info[0] >= 3:\n",
    "    from urllib.request import urlretrieve\n",
    "else:\n",
    "    from urllib import urlretrieve\n",
    "\n",
    "data_url = \"https://archive.ics.uci.edu/ml/machine-learning-databases/00280/HIGGS.csv.gz\"\n",
    "dmatrix_train_filename = \"./data/higgs_train.dmatrix\"\n",
    "dmatrix_test_filename = \"./data/higgs_test.dmatrix\"\n",
    "csv_filename = \"./data/HIGGS.csv.gz\"\n",
    "train_rows = 10500000\n",
    "test_rows = 500000\n",
    "num_round = 200 # originally 1000\n",
    "\n",
    "plot = True"
   ]
  },
  {
   "cell_type": "code",
   "execution_count": 3,
   "outputs": [],
   "source": [
    "# return xgboost dmatrix\n",
    "def load_higgs():\n",
    "    if os.path.isfile(dmatrix_train_filename) and os.path.isfile(dmatrix_test_filename):           \n",
    "        dtrain = xgb.DMatrix(dmatrix_train_filename)\n",
    "        dtest = xgb.DMatrix(dmatrix_test_filename)\n",
    "        if dtrain.num_row() == train_rows and dtest.num_row() == test_rows:\n",
    "            print(\"Loading cached dmatrix...\")\n",
    "            return dtrain, dtest\n",
    "\n",
    "    if not os.path.isfile(csv_filename):\n",
    "        print(\"Downloading higgs file...\")\n",
    "        urlretrieve(data_url, csv_filename)\n",
    "\n",
    "    df_higgs_train = pd.read_csv(csv_filename, dtype=np.float32,\n",
    "                                     nrows=train_rows, header=None)\n",
    "    dtrain = xgb.DMatrix(df_higgs_train.loc[:, 1:29], df_higgs_train[0])\n",
    "    dtrain.save_binary(dmatrix_train_filename)\n",
    "    df_higgs_test = pd.read_csv(csv_filename, dtype=np.float32,\n",
    "                                    skiprows=train_rows, nrows=test_rows, \n",
    "                                    header=None)\n",
    "    dtest = xgb.DMatrix(df_higgs_test.loc[:, 1:29], df_higgs_test[0])\n",
    "    dtest.save_binary(dmatrix_test_filename)\n",
    "\n",
    "    return dtrain, dtest"
   ],
   "metadata": {
    "collapsed": false,
    "pycharm": {
     "name": "#%%\n"
    }
   }
  },
  {
   "cell_type": "code",
   "execution_count": 4,
   "metadata": {
    "ExecuteTime": {
     "end_time": "2020-01-18T10:03:46.716064Z",
     "start_time": "2020-01-18T10:03:44.939389Z"
    }
   },
   "outputs": [],
   "source": [
    "dtrain, dtest = load_higgs()"
   ]
  },
  {
   "cell_type": "code",
   "execution_count": 5,
   "metadata": {
    "ExecuteTime": {
     "end_time": "2020-01-18T10:42:09.165888Z",
     "start_time": "2020-01-18T10:42:09.157237Z"
    }
   },
   "outputs": [],
   "source": [
    "datasnap = pd.read_csv(csv_filename, dtype=np.float32,\n",
    "                                     nrows=10, header=None)"
   ]
  },
  {
   "cell_type": "code",
   "execution_count": 6,
   "metadata": {
    "ExecuteTime": {
     "end_time": "2020-01-18T10:42:14.502439Z",
     "start_time": "2020-01-18T10:42:14.479433Z"
    }
   },
   "outputs": [
    {
     "data": {
      "text/plain": "    0         1         2         3         4         5         6         7   \\\n0  1.0  0.869293 -0.635082  0.225690  0.327470 -0.689993  0.754202 -0.248573   \n1  1.0  0.907542  0.329147  0.359412  1.497970 -0.313010  1.095531 -0.557525   \n2  1.0  0.798835  1.470639 -1.635975  0.453773  0.425629  1.104875  1.282322   \n3  0.0  1.344385 -0.876626  0.935913  1.992050  0.882454  1.786066 -1.646778   \n4  1.0  1.105009  0.321356  1.522401  0.882808 -1.205349  0.681466 -1.070464   \n5  0.0  1.595839 -0.607811  0.007075  1.818450 -0.111906  0.847550 -0.566437   \n6  1.0  0.409391 -1.884684 -1.027292  1.672452 -1.604598  1.338015  0.055427   \n7  1.0  0.933895  0.629130  0.527535  0.238033 -0.966569  0.547811 -0.059439   \n8  1.0  1.405144  0.536603  0.689554  1.179567 -0.110061  3.202405 -1.526960   \n9  1.0  1.176566  0.104161  1.397002  0.479721  0.265513  1.135563  1.534831   \n\n         8         9   ...        19        20        21        22        23  \\\n0 -1.092064  0.000000  ... -0.010455 -0.045767  3.101961  1.353760  0.979563   \n1 -1.588230  2.173076  ... -1.138930 -0.000819  0.000000  0.302220  0.833048   \n2  1.381664  0.000000  ...  1.128848  0.900461  0.000000  0.909753  1.108330   \n3 -0.942383  0.000000  ... -0.678379 -1.360356  0.000000  0.946652  1.028704   \n4 -0.921871  0.000000  ... -0.373566  0.113041  0.000000  0.755856  1.361057   \n5  1.581239  2.173076  ... -0.654227 -1.274345  3.101961  0.823761  0.938191   \n6  0.013466  2.173076  ...  0.069496  1.377130  3.101961  0.869418  1.222083   \n7 -1.706866  2.173076  ...  1.291248 -1.467454  0.000000  0.901837  1.083671   \n8 -1.576033  0.000000  ... -0.151202  1.163489  0.000000  1.667071  4.039273   \n9 -0.253291  0.000000  ...  0.268541  0.530334  0.000000  0.833175  0.773968   \n\n         24        25        26        27        28  \n0  0.978076  0.920005  0.721657  0.988751  0.876678  \n1  0.985700  0.978098  0.779732  0.992356  0.798343  \n2  0.985692  0.951331  0.803252  0.865924  0.780118  \n3  0.998656  0.728281  0.869200  1.026736  0.957904  \n4  0.986610  0.838085  1.133295  0.872245  0.808487  \n5  0.971758  0.789176  0.430553  0.961357  0.957818  \n6  1.000627  0.545045  0.698653  0.977314  0.828786  \n7  0.979696  0.783300  0.849195  0.894356  0.774879  \n8  1.175828  1.045352  1.542972  3.534827  2.740754  \n9  0.985750  1.103696  0.849140  0.937104  0.812364  \n\n[10 rows x 29 columns]",
      "text/html": "<div>\n<style scoped>\n    .dataframe tbody tr th:only-of-type {\n        vertical-align: middle;\n    }\n\n    .dataframe tbody tr th {\n        vertical-align: top;\n    }\n\n    .dataframe thead th {\n        text-align: right;\n    }\n</style>\n<table border=\"1\" class=\"dataframe\">\n  <thead>\n    <tr style=\"text-align: right;\">\n      <th></th>\n      <th>0</th>\n      <th>1</th>\n      <th>2</th>\n      <th>3</th>\n      <th>4</th>\n      <th>5</th>\n      <th>6</th>\n      <th>7</th>\n      <th>8</th>\n      <th>9</th>\n      <th>...</th>\n      <th>19</th>\n      <th>20</th>\n      <th>21</th>\n      <th>22</th>\n      <th>23</th>\n      <th>24</th>\n      <th>25</th>\n      <th>26</th>\n      <th>27</th>\n      <th>28</th>\n    </tr>\n  </thead>\n  <tbody>\n    <tr>\n      <th>0</th>\n      <td>1.0</td>\n      <td>0.869293</td>\n      <td>-0.635082</td>\n      <td>0.225690</td>\n      <td>0.327470</td>\n      <td>-0.689993</td>\n      <td>0.754202</td>\n      <td>-0.248573</td>\n      <td>-1.092064</td>\n      <td>0.000000</td>\n      <td>...</td>\n      <td>-0.010455</td>\n      <td>-0.045767</td>\n      <td>3.101961</td>\n      <td>1.353760</td>\n      <td>0.979563</td>\n      <td>0.978076</td>\n      <td>0.920005</td>\n      <td>0.721657</td>\n      <td>0.988751</td>\n      <td>0.876678</td>\n    </tr>\n    <tr>\n      <th>1</th>\n      <td>1.0</td>\n      <td>0.907542</td>\n      <td>0.329147</td>\n      <td>0.359412</td>\n      <td>1.497970</td>\n      <td>-0.313010</td>\n      <td>1.095531</td>\n      <td>-0.557525</td>\n      <td>-1.588230</td>\n      <td>2.173076</td>\n      <td>...</td>\n      <td>-1.138930</td>\n      <td>-0.000819</td>\n      <td>0.000000</td>\n      <td>0.302220</td>\n      <td>0.833048</td>\n      <td>0.985700</td>\n      <td>0.978098</td>\n      <td>0.779732</td>\n      <td>0.992356</td>\n      <td>0.798343</td>\n    </tr>\n    <tr>\n      <th>2</th>\n      <td>1.0</td>\n      <td>0.798835</td>\n      <td>1.470639</td>\n      <td>-1.635975</td>\n      <td>0.453773</td>\n      <td>0.425629</td>\n      <td>1.104875</td>\n      <td>1.282322</td>\n      <td>1.381664</td>\n      <td>0.000000</td>\n      <td>...</td>\n      <td>1.128848</td>\n      <td>0.900461</td>\n      <td>0.000000</td>\n      <td>0.909753</td>\n      <td>1.108330</td>\n      <td>0.985692</td>\n      <td>0.951331</td>\n      <td>0.803252</td>\n      <td>0.865924</td>\n      <td>0.780118</td>\n    </tr>\n    <tr>\n      <th>3</th>\n      <td>0.0</td>\n      <td>1.344385</td>\n      <td>-0.876626</td>\n      <td>0.935913</td>\n      <td>1.992050</td>\n      <td>0.882454</td>\n      <td>1.786066</td>\n      <td>-1.646778</td>\n      <td>-0.942383</td>\n      <td>0.000000</td>\n      <td>...</td>\n      <td>-0.678379</td>\n      <td>-1.360356</td>\n      <td>0.000000</td>\n      <td>0.946652</td>\n      <td>1.028704</td>\n      <td>0.998656</td>\n      <td>0.728281</td>\n      <td>0.869200</td>\n      <td>1.026736</td>\n      <td>0.957904</td>\n    </tr>\n    <tr>\n      <th>4</th>\n      <td>1.0</td>\n      <td>1.105009</td>\n      <td>0.321356</td>\n      <td>1.522401</td>\n      <td>0.882808</td>\n      <td>-1.205349</td>\n      <td>0.681466</td>\n      <td>-1.070464</td>\n      <td>-0.921871</td>\n      <td>0.000000</td>\n      <td>...</td>\n      <td>-0.373566</td>\n      <td>0.113041</td>\n      <td>0.000000</td>\n      <td>0.755856</td>\n      <td>1.361057</td>\n      <td>0.986610</td>\n      <td>0.838085</td>\n      <td>1.133295</td>\n      <td>0.872245</td>\n      <td>0.808487</td>\n    </tr>\n    <tr>\n      <th>5</th>\n      <td>0.0</td>\n      <td>1.595839</td>\n      <td>-0.607811</td>\n      <td>0.007075</td>\n      <td>1.818450</td>\n      <td>-0.111906</td>\n      <td>0.847550</td>\n      <td>-0.566437</td>\n      <td>1.581239</td>\n      <td>2.173076</td>\n      <td>...</td>\n      <td>-0.654227</td>\n      <td>-1.274345</td>\n      <td>3.101961</td>\n      <td>0.823761</td>\n      <td>0.938191</td>\n      <td>0.971758</td>\n      <td>0.789176</td>\n      <td>0.430553</td>\n      <td>0.961357</td>\n      <td>0.957818</td>\n    </tr>\n    <tr>\n      <th>6</th>\n      <td>1.0</td>\n      <td>0.409391</td>\n      <td>-1.884684</td>\n      <td>-1.027292</td>\n      <td>1.672452</td>\n      <td>-1.604598</td>\n      <td>1.338015</td>\n      <td>0.055427</td>\n      <td>0.013466</td>\n      <td>2.173076</td>\n      <td>...</td>\n      <td>0.069496</td>\n      <td>1.377130</td>\n      <td>3.101961</td>\n      <td>0.869418</td>\n      <td>1.222083</td>\n      <td>1.000627</td>\n      <td>0.545045</td>\n      <td>0.698653</td>\n      <td>0.977314</td>\n      <td>0.828786</td>\n    </tr>\n    <tr>\n      <th>7</th>\n      <td>1.0</td>\n      <td>0.933895</td>\n      <td>0.629130</td>\n      <td>0.527535</td>\n      <td>0.238033</td>\n      <td>-0.966569</td>\n      <td>0.547811</td>\n      <td>-0.059439</td>\n      <td>-1.706866</td>\n      <td>2.173076</td>\n      <td>...</td>\n      <td>1.291248</td>\n      <td>-1.467454</td>\n      <td>0.000000</td>\n      <td>0.901837</td>\n      <td>1.083671</td>\n      <td>0.979696</td>\n      <td>0.783300</td>\n      <td>0.849195</td>\n      <td>0.894356</td>\n      <td>0.774879</td>\n    </tr>\n    <tr>\n      <th>8</th>\n      <td>1.0</td>\n      <td>1.405144</td>\n      <td>0.536603</td>\n      <td>0.689554</td>\n      <td>1.179567</td>\n      <td>-0.110061</td>\n      <td>3.202405</td>\n      <td>-1.526960</td>\n      <td>-1.576033</td>\n      <td>0.000000</td>\n      <td>...</td>\n      <td>-0.151202</td>\n      <td>1.163489</td>\n      <td>0.000000</td>\n      <td>1.667071</td>\n      <td>4.039273</td>\n      <td>1.175828</td>\n      <td>1.045352</td>\n      <td>1.542972</td>\n      <td>3.534827</td>\n      <td>2.740754</td>\n    </tr>\n    <tr>\n      <th>9</th>\n      <td>1.0</td>\n      <td>1.176566</td>\n      <td>0.104161</td>\n      <td>1.397002</td>\n      <td>0.479721</td>\n      <td>0.265513</td>\n      <td>1.135563</td>\n      <td>1.534831</td>\n      <td>-0.253291</td>\n      <td>0.000000</td>\n      <td>...</td>\n      <td>0.268541</td>\n      <td>0.530334</td>\n      <td>0.000000</td>\n      <td>0.833175</td>\n      <td>0.773968</td>\n      <td>0.985750</td>\n      <td>1.103696</td>\n      <td>0.849140</td>\n      <td>0.937104</td>\n      <td>0.812364</td>\n    </tr>\n  </tbody>\n</table>\n<p>10 rows x 29 columns</p>\n</div>"
     },
     "execution_count": 6,
     "metadata": {},
     "output_type": "execute_result"
    }
   ],
   "source": [
    "datasnap"
   ]
  },
  {
   "cell_type": "markdown",
   "metadata": {},
   "source": [
    "# Train XGB with CPU"
   ]
  },
  {
   "cell_type": "code",
   "execution_count": 7,
   "metadata": {
    "ExecuteTime": {
     "end_time": "2020-01-18T10:15:48.584735Z",
     "start_time": "2020-01-18T10:03:50.927773Z"
    },
    "scrolled": true
   },
   "outputs": [
    {
     "name": "stdout",
     "output_type": "stream",
     "text": [
      "Training with CPU ...\n",
      "[0]\ttest-error:0.529014\n",
      "[1]\ttest-error:0.404738\n",
      "[2]\ttest-error:0.36437\n",
      "[3]\ttest-error:0.34097\n",
      "[4]\ttest-error:0.331918\n",
      "[5]\ttest-error:0.32475\n",
      "[6]\ttest-error:0.319754\n",
      "[7]\ttest-error:0.31552\n",
      "[8]\ttest-error:0.311322\n",
      "[9]\ttest-error:0.308886\n",
      "[10]\ttest-error:0.307236\n",
      "[11]\ttest-error:0.304846\n",
      "[12]\ttest-error:0.303586\n",
      "[13]\ttest-error:0.30259\n",
      "[14]\ttest-error:0.301056\n",
      "[15]\ttest-error:0.3004\n",
      "[16]\ttest-error:0.29817\n",
      "[17]\ttest-error:0.297258\n",
      "[18]\ttest-error:0.29687\n",
      "[19]\ttest-error:0.296264\n",
      "[20]\ttest-error:0.29559\n",
      "[21]\ttest-error:0.294236\n",
      "[22]\ttest-error:0.293642\n",
      "[23]\ttest-error:0.292816\n",
      "[24]\ttest-error:0.29212\n",
      "[25]\ttest-error:0.290954\n",
      "[26]\ttest-error:0.290696\n",
      "[27]\ttest-error:0.290382\n",
      "[28]\ttest-error:0.289936\n",
      "[29]\ttest-error:0.289404\n",
      "[30]\ttest-error:0.28939\n",
      "[31]\ttest-error:0.288796\n",
      "[32]\ttest-error:0.288328\n",
      "[33]\ttest-error:0.288092\n",
      "[34]\ttest-error:0.287584\n",
      "[35]\ttest-error:0.28711\n",
      "[36]\ttest-error:0.287028\n",
      "[37]\ttest-error:0.286914\n",
      "[38]\ttest-error:0.286666\n",
      "[39]\ttest-error:0.286422\n",
      "[40]\ttest-error:0.28594\n",
      "[41]\ttest-error:0.285678\n",
      "[42]\ttest-error:0.285522\n",
      "[43]\ttest-error:0.28527\n",
      "[44]\ttest-error:0.284902\n",
      "[45]\ttest-error:0.28467\n",
      "[46]\ttest-error:0.283916\n",
      "[47]\ttest-error:0.283504\n",
      "[48]\ttest-error:0.283374\n",
      "[49]\ttest-error:0.283052\n",
      "[50]\ttest-error:0.282786\n",
      "[51]\ttest-error:0.282454\n",
      "[52]\ttest-error:0.282178\n",
      "[53]\ttest-error:0.281696\n",
      "[54]\ttest-error:0.281516\n",
      "[55]\ttest-error:0.281192\n",
      "[56]\ttest-error:0.28111\n",
      "[57]\ttest-error:0.280858\n",
      "[58]\ttest-error:0.28074\n",
      "[59]\ttest-error:0.280386\n",
      "[60]\ttest-error:0.280098\n",
      "[61]\ttest-error:0.280016\n",
      "[62]\ttest-error:0.279778\n",
      "[63]\ttest-error:0.279344\n",
      "[64]\ttest-error:0.27943\n",
      "[65]\ttest-error:0.279256\n",
      "[66]\ttest-error:0.279032\n",
      "[67]\ttest-error:0.279034\n",
      "[68]\ttest-error:0.279046\n",
      "[69]\ttest-error:0.278986\n",
      "[70]\ttest-error:0.278874\n",
      "[71]\ttest-error:0.278752\n",
      "[72]\ttest-error:0.27851\n",
      "[73]\ttest-error:0.278132\n",
      "[74]\ttest-error:0.278028\n",
      "[75]\ttest-error:0.277892\n",
      "[76]\ttest-error:0.277626\n",
      "[77]\ttest-error:0.277444\n",
      "[78]\ttest-error:0.27736\n",
      "[79]\ttest-error:0.277032\n",
      "[80]\ttest-error:0.276812\n",
      "[81]\ttest-error:0.276782\n",
      "[82]\ttest-error:0.276454\n",
      "[83]\ttest-error:0.276192\n",
      "[84]\ttest-error:0.276066\n",
      "[85]\ttest-error:0.275882\n",
      "[86]\ttest-error:0.275818\n",
      "[87]\ttest-error:0.275736\n",
      "[88]\ttest-error:0.275642\n",
      "[89]\ttest-error:0.275594\n",
      "[90]\ttest-error:0.275562\n",
      "[91]\ttest-error:0.275544\n",
      "[92]\ttest-error:0.275378\n",
      "[93]\ttest-error:0.275298\n",
      "[94]\ttest-error:0.275318\n",
      "[95]\ttest-error:0.275126\n",
      "[96]\ttest-error:0.27496\n",
      "[97]\ttest-error:0.274884\n",
      "[98]\ttest-error:0.27469\n",
      "[99]\ttest-error:0.27462\n",
      "[100]\ttest-error:0.274528\n",
      "[101]\ttest-error:0.274418\n",
      "[102]\ttest-error:0.274326\n",
      "[103]\ttest-error:0.274198\n",
      "[104]\ttest-error:0.274148\n",
      "[105]\ttest-error:0.273876\n",
      "[106]\ttest-error:0.273916\n",
      "[107]\ttest-error:0.27382\n",
      "[108]\ttest-error:0.273708\n",
      "[109]\ttest-error:0.273626\n",
      "[110]\ttest-error:0.273666\n",
      "[111]\ttest-error:0.2736\n",
      "[112]\ttest-error:0.273632\n",
      "[113]\ttest-error:0.273444\n",
      "[114]\ttest-error:0.273336\n",
      "[115]\ttest-error:0.273332\n",
      "[116]\ttest-error:0.27323\n",
      "[117]\ttest-error:0.2731\n",
      "[118]\ttest-error:0.273028\n",
      "[119]\ttest-error:0.27304\n",
      "[120]\ttest-error:0.272916\n",
      "[121]\ttest-error:0.272614\n",
      "[122]\ttest-error:0.272436\n",
      "[123]\ttest-error:0.272438\n",
      "[124]\ttest-error:0.272232\n",
      "[125]\ttest-error:0.272114\n",
      "[126]\ttest-error:0.272078\n",
      "[127]\ttest-error:0.272026\n",
      "[128]\ttest-error:0.272026\n",
      "[129]\ttest-error:0.271966\n",
      "[130]\ttest-error:0.271782\n",
      "[131]\ttest-error:0.271698\n",
      "[132]\ttest-error:0.271594\n",
      "[133]\ttest-error:0.271494\n",
      "[134]\ttest-error:0.271404\n",
      "[135]\ttest-error:0.271358\n",
      "[136]\ttest-error:0.271208\n",
      "[137]\ttest-error:0.271092\n",
      "[138]\ttest-error:0.271116\n",
      "[139]\ttest-error:0.271058\n",
      "[140]\ttest-error:0.271046\n",
      "[141]\ttest-error:0.27103\n",
      "[142]\ttest-error:0.270802\n",
      "[143]\ttest-error:0.270816\n",
      "[144]\ttest-error:0.270614\n",
      "[145]\ttest-error:0.270512\n",
      "[146]\ttest-error:0.270424\n",
      "[147]\ttest-error:0.270368\n",
      "[148]\ttest-error:0.270326\n",
      "[149]\ttest-error:0.270354\n",
      "[150]\ttest-error:0.27034\n",
      "[151]\ttest-error:0.270212\n",
      "[152]\ttest-error:0.270072\n",
      "[153]\ttest-error:0.27002\n",
      "[154]\ttest-error:0.269958\n",
      "[155]\ttest-error:0.269928\n",
      "[156]\ttest-error:0.269846\n",
      "[157]\ttest-error:0.269868\n",
      "[158]\ttest-error:0.269562\n",
      "[159]\ttest-error:0.269546\n",
      "[160]\ttest-error:0.269564\n",
      "[161]\ttest-error:0.269386\n",
      "[162]\ttest-error:0.269338\n",
      "[163]\ttest-error:0.269302\n",
      "[164]\ttest-error:0.269312\n",
      "[165]\ttest-error:0.269314\n",
      "[166]\ttest-error:0.269352\n",
      "[167]\ttest-error:0.269318\n",
      "[168]\ttest-error:0.269158\n",
      "[169]\ttest-error:0.269078\n",
      "[170]\ttest-error:0.26917\n",
      "[171]\ttest-error:0.269092\n",
      "[172]\ttest-error:0.26907\n",
      "[173]\ttest-error:0.26907\n",
      "[174]\ttest-error:0.268978\n",
      "[175]\ttest-error:0.268858\n",
      "[176]\ttest-error:0.268798\n",
      "[177]\ttest-error:0.26881\n",
      "[178]\ttest-error:0.268662\n",
      "[179]\ttest-error:0.268654\n",
      "[180]\ttest-error:0.268634\n",
      "[181]\ttest-error:0.268652\n",
      "[182]\ttest-error:0.268574\n",
      "[183]\ttest-error:0.268568\n",
      "[184]\ttest-error:0.268512\n",
      "[185]\ttest-error:0.268446\n",
      "[186]\ttest-error:0.26834\n",
      "[187]\ttest-error:0.268282\n",
      "[188]\ttest-error:0.268306\n",
      "[189]\ttest-error:0.268186\n",
      "[190]\ttest-error:0.268194\n",
      "[191]\ttest-error:0.268124\n",
      "[192]\ttest-error:0.268154\n",
      "[193]\ttest-error:0.268156\n",
      "[194]\ttest-error:0.268132\n",
      "[195]\ttest-error:0.26813\n",
      "[196]\ttest-error:0.268062\n",
      "[197]\ttest-error:0.268034\n",
      "[198]\ttest-error:0.267986\n",
      "[199]\ttest-error:0.26802\n",
      "CPU Training Time: 413.2757999897003 seconds\n"
     ]
    }
   ],
   "source": [
    "print(\"Training with CPU ...\")\n",
    "param = {'objective': 'binary:logitraw', 'eval_metric': 'error', 'silent': 1, 'tree_method': 'hist'}\n",
    "\n",
    "tmp = time.time()\n",
    "cpu_res = {}\n",
    "xgb.train(param, dtrain, num_round, evals=[(dtest, \"test\")], evals_result=cpu_res)\n",
    "cpu_time = time.time() - tmp\n",
    "print(\"CPU Training Time: %s seconds\" % (str(cpu_time)))"
   ]
  },
  {
   "cell_type": "markdown",
   "metadata": {},
   "source": [
    "# Train XGB With GPU"
   ]
  },
  {
   "cell_type": "code",
   "execution_count": null,
   "metadata": {
    "ExecuteTime": {
     "end_time": "2020-01-18T10:17:06.807946Z",
     "start_time": "2020-01-18T10:15:48.586126Z"
    },
    "pycharm": {
     "is_executing": true
    }
   },
   "outputs": [
    {
     "name": "stdout",
     "output_type": "stream",
     "text": [
      "Training with Single GPU ...\n"
     ]
    }
   ],
   "source": [
    "print(\"Training with Single GPU ...\")\n",
    "param['tree_method'] = 'gpu_hist'\n",
    "tmp = time.time()\n",
    "gpu_res = {}\n",
    "xgb.train(param, dtrain, num_round, evals=[(dtest, \"test\")], evals_result=gpu_res)\n",
    "gpu_time = time.time() - tmp\n",
    "print(\"GPU Training Time: %s seconds\" % (str(gpu_time)))"
   ]
  },
  {
   "cell_type": "markdown",
   "metadata": {},
   "source": [
    "# Train XGB With DASK Multi GPU Cluster "
   ]
  },
  {
   "cell_type": "code",
   "execution_count": null,
   "metadata": {
    "ExecuteTime": {
     "end_time": "2020-01-18T10:17:06.813461Z",
     "start_time": "2020-01-18T10:17:06.809414Z"
    }
   },
   "outputs": [],
   "source": [
    "def load_higgs_for_dask(client):\n",
    "    # 1. read the CSV File using Pandas\n",
    "    df_higgs_train = pd.read_csv(csv_filename, dtype=np.float32,\n",
    "                                     nrows=train_rows, header=None).ix[:, 0:30]\n",
    "    df_higgs_test = pd.read_csv(csv_filename, dtype=np.float32,\n",
    "                                    skiprows=train_rows, nrows=test_rows, \n",
    "                                    header=None).ix[:, 0:30]\n",
    "\n",
    "    # 2. Create a Dask Dataframe from Pandas Dataframe.\n",
    "    ddf_higgs_train = dd.from_pandas(df_higgs_train, npartitions=8)\n",
    "    ddf_higgs_test = dd.from_pandas(df_higgs_test, npartitions=8)\n",
    "    ddf_y_train = ddf_higgs_train[0]\n",
    "    del ddf_higgs_train[0]\n",
    "    ddf_y_test = ddf_higgs_test[0]\n",
    "    del ddf_higgs_test[0]\n",
    "    \n",
    "    #3. Create Dask DMatrix Object using dask dataframes\n",
    "    xgb.DMatrix()\n",
    "    ddtrain = xgb.dask.DaskDMatrix(client, ddf_higgs_train ,ddf_y_train)\n",
    "    ddtest = xgb.dask.DaskDMatrix(client, ddf_higgs_test ,ddf_y_test)\n",
    "    \n",
    "    return ddtrain, ddtest"
   ]
  },
  {
   "cell_type": "code",
   "execution_count": null,
   "metadata": {
    "ExecuteTime": {
     "end_time": "2020-01-18T10:17:08.013559Z",
     "start_time": "2020-01-18T10:17:06.814552Z"
    }
   },
   "outputs": [],
   "source": [
    "cluster = LocalCUDACluster()\n",
    "client = Client(cluster)"
   ]
  },
  {
   "cell_type": "code",
   "execution_count": null,
   "metadata": {
    "ExecuteTime": {
     "end_time": "2020-01-18T10:19:54.549260Z",
     "start_time": "2020-01-18T10:17:08.015080Z"
    }
   },
   "outputs": [],
   "source": [
    "ddtrain, ddtest = load_higgs_for_dask(client)"
   ]
  },
  {
   "cell_type": "code",
   "execution_count": null,
   "metadata": {
    "ExecuteTime": {
     "end_time": "2020-01-18T10:19:54.552506Z",
     "start_time": "2020-01-18T10:19:54.550251Z"
    }
   },
   "outputs": [],
   "source": [
    "param = {}\n",
    "param['objective'] = 'binary:logitraw'\n",
    "param['eval_metric'] = 'error'\n",
    "param['silence'] = 1\n",
    "param['tree_method'] = 'gpu_hist'\n",
    "param['nthread'] = 1"
   ]
  },
  {
   "cell_type": "code",
   "execution_count": null,
   "metadata": {
    "ExecuteTime": {
     "end_time": "2020-01-18T10:20:44.644606Z",
     "start_time": "2020-01-18T10:19:54.553429Z"
    }
   },
   "outputs": [],
   "source": [
    "print(\"Training with Multiple GPUs ...\")\n",
    "tmp = time.time()\n",
    "output = xgb.dask.train(client, param, ddtrain, num_boost_round=1000, evals=[(ddtest, 'test')])\n",
    "multigpu_time = time.time() - tmp\n",
    "print(\"Multi GPU Training Time: %s seconds\" % (str(multigpu_time)))"
   ]
  },
  {
   "cell_type": "code",
   "execution_count": null,
   "metadata": {
    "ExecuteTime": {
     "end_time": "2020-01-18T10:20:44.651012Z",
     "start_time": "2020-01-18T10:20:44.648445Z"
    }
   },
   "outputs": [],
   "source": [
    "bst = output['booster']\n",
    "multigpu_res = output['history']"
   ]
  },
  {
   "cell_type": "code",
   "execution_count": null,
   "metadata": {
    "ExecuteTime": {
     "end_time": "2020-01-18T10:20:44.669980Z",
     "start_time": "2020-01-18T10:20:44.652008Z"
    }
   },
   "outputs": [],
   "source": [
    "multigpu_res"
   ]
  },
  {
   "cell_type": "markdown",
   "metadata": {},
   "source": [
    "# Results"
   ]
  },
  {
   "cell_type": "code",
   "execution_count": null,
   "metadata": {
    "ExecuteTime": {
     "end_time": "2020-01-18T10:20:44.675402Z",
     "start_time": "2020-01-18T10:20:44.670942Z"
    }
   },
   "outputs": [],
   "source": [
    "\n",
    "\n",
    "gpu_iteration_time = [x / (num_round * 1.0) * gpu_time for x in range(0, num_round)]\n",
    "cpu_iteration_time = [x / (num_round * 1.0) * cpu_time for x in range(0, num_round)]\n",
    "multigpu_iteration_time = [x / (num_round * 1.0) * multigpu_time for x in range(0, num_round)]\n"
   ]
  },
  {
   "cell_type": "code",
   "execution_count": null,
   "metadata": {
    "ExecuteTime": {
     "end_time": "2020-01-18T10:20:45.648775Z",
     "start_time": "2020-01-18T10:20:44.676299Z"
    }
   },
   "outputs": [],
   "source": [
    "import plotly.graph_objects as go\n",
    "\n",
    "# Create random data with numpy\n",
    "import numpy as np\n",
    "\n",
    "min_error = min(min(gpu_res[\"test\"][param['eval_metric']]), \n",
    "                min(cpu_res[\"test\"][param['eval_metric']]),\n",
    "                min(multigpu_res[\"test\"]['error'])\n",
    "               )\n",
    "\n",
    "# Create traces\n",
    "fig = go.Figure()\n",
    "\n",
    "\n",
    "fig.add_trace(go.Scatter(x=cpu_iteration_time, y=cpu_res['test'][param['eval_metric']],\n",
    "                    mode='lines', name='Intel(R) Core(TM) i9-9920X CPU (12 cores)'))\n",
    "fig.add_trace(go.Scatter(x=gpu_iteration_time, y=gpu_res['test'][param['eval_metric']],\n",
    "                    mode='lines',\n",
    "                    name='Titan RTX'))\n",
    "fig.add_trace(go.Scatter(x=multigpu_iteration_time, y= multigpu_res['test']['error'],\n",
    "                    mode='lines',\n",
    "                    name='2X Titan RTX'))\n",
    "fig.update_yaxes(range=[.23, .35])\n",
    "fig.update_xaxes(title_text='Time')\n",
    "fig.update_yaxes(title_text='Error')\n",
    "\n",
    "fig.add_trace(go.Scatter(x=cpu_iteration_time, y=[min_error for x in cpu_iteration_time] ,mode=\"lines\", name='MinError'))\n",
    "\n",
    "fig.show()"
   ]
  },
  {
   "cell_type": "code",
   "execution_count": null,
   "metadata": {
    "ExecuteTime": {
     "end_time": "2020-01-18T10:20:45.801399Z",
     "start_time": "2020-01-18T10:20:45.650047Z"
    }
   },
   "outputs": [],
   "source": [
    "import plotly.graph_objects as go\n",
    "\n",
    "# Create random data with numpy\n",
    "import numpy as np\n",
    "\n",
    "# Create traces\n",
    "fig = go.Figure()\n",
    "\n",
    "\n",
    "fig.add_trace(go.Scatter(x=gpu_iteration_time, y=gpu_res['test'][param['eval_metric']],\n",
    "                    mode='lines',\n",
    "                    name='Titan RTX'))\n",
    "fig.add_trace(go.Scatter(x=multigpu_iteration_time, y= multigpu_res['test']['error'],\n",
    "                    mode='lines',\n",
    "                    name='2X Titan RTX'))\n",
    "fig.update_yaxes(range=[.23, .35])\n",
    "fig.update_xaxes(title_text='Time')\n",
    "fig.update_yaxes(title_text='Error')\n",
    "\n",
    "\n",
    "fig.add_trace(go.Scatter(x=gpu_iteration_time, y=[min_error for x in gpu_iteration_time] ,mode=\"lines\", name='MinError'))\n",
    "\n",
    "fig.show()"
   ]
  },
  {
   "cell_type": "code",
   "execution_count": null,
   "metadata": {},
   "outputs": [],
   "source": []
  }
 ],
 "metadata": {
  "kernelspec": {
   "name": "conda-env-py38-py",
   "language": "python",
   "display_name": "Python [conda env:py38] *"
  },
  "language_info": {
   "codemirror_mode": {
    "name": "ipython",
    "version": 3
   },
   "file_extension": ".py",
   "mimetype": "text/x-python",
   "name": "python",
   "nbconvert_exporter": "python",
   "pygments_lexer": "ipython3",
   "version": "3.8.6"
  }
 },
 "nbformat": 4,
 "nbformat_minor": 4
}